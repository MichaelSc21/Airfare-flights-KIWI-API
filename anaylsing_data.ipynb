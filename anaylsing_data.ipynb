{
 "cells": [
  {
   "cell_type": "code",
   "execution_count": 9,
   "metadata": {},
   "outputs": [],
   "source": [
    "import matplotlib.pyplot as plt\n",
    "import pandas as pd\n",
    "import numpy as np\n",
    "import json\n",
    "import sys\n",
    "from scipy.optimize import curve_fit, leastsq\n",
    "\n",
    "%matplotlib inline"
   ]
  },
  {
   "attachments": {},
   "cell_type": "markdown",
   "metadata": {},
   "source": [
    "### Fetching the data from the files"
   ]
  },
  {
   "cell_type": "code",
   "execution_count": 5,
   "metadata": {},
   "outputs": [],
   "source": [
    "def create_df(filename):\n",
    "    df= pd.read_json(filename)\n",
    "    return df\n",
    "\n",
    "def filter_data(df):    \n",
    "    mean = df['price'].mean()\n",
    "    std = df['price'].std()\n",
    "    lower_range = mean - 2*std\n",
    "    upper_range = mean + 2*std\n",
    "    mask = (df['price'] >= lower_range) & (df['price'] <= upper_range)\n",
    "\n",
    "    df['price'] = df['price'][mask]\n",
    "    df['duration'] = df['duration'][mask]\n",
    "\n",
    "    df['departure'] = pd.to_datetime(df['departure'].str[:10])\n",
    "\n",
    "    df.index = df['departure']\n",
    "    return df\n",
    "    \n",
    "def sort_by_date(df):\n",
    "    df2 = pd.DataFrame(index=df.index.unique(), columns=['price'])\n",
    "\n",
    "    for i in df.index.unique():\n",
    "        df2.loc[i] = df.loc[i, 'price'].quantile(q=0.25)\n",
    "    return df2\n",
    "\n"
   ]
  },
  {
   "cell_type": "code",
   "execution_count": 11,
   "metadata": {},
   "outputs": [],
   "source": [
    "def hist(df, bin):\n",
    "\n",
    "    x = df['price']\n",
    "    fig, ax = plt.subplots(figsize = (12, 6))\n",
    "    ax.legend(['The price density of flights from BHX to IAS'])\n",
    "    ax.set_xlabel('price')\n",
    "    ax.set_ylabel('density')\n",
    "    ax.set_xticks(np.arange(0, np.max(x)+1, 100))\n",
    "    ax.hist(x, bins=bin)"
   ]
  },
  {
   "cell_type": "code",
   "execution_count": 4,
   "metadata": {},
   "outputs": [],
   "source": [
    "df = create_df('file1.json')\n",
    "df = filter_data(df)\n",
    "df2 = sort_by_date(df)"
   ]
  },
  {
   "cell_type": "code",
   "execution_count": 57,
   "metadata": {},
   "outputs": [
    {
     "name": "stdout",
     "output_type": "stream",
     "text": [
      "1.5129508593560882e-07\n"
     ]
    }
   ],
   "source": [
    "\n",
    "y = df2['price']\n",
    "x = df2.index\n",
    "\n",
    "x_line= (x - pd.Timestamp(\"01/01/1970\")) // pd.Timedelta('1s')\n",
    "\n",
    "# Finding the amplitude of the sin waves\n",
    "amp = abs(np.fft.fft(y))\n",
    "# Finding the frequency of the sin waves\n",
    "freq = np.fft.fftfreq(len(x_line), (x_line[1]-x_line[0]))\n",
    "guess_amp = np.std(y) * 2**0.5\n",
    "guess_freq = abs(freq[np.argmax(amp[1:])+1])\n",
    "print(guess_freq)\n",
    "phase = 0\n",
    "guess_offset = np.mean(y)\n",
    "guess = [guess_amp, 2*np.pi*guess_freq, phase,  guess_offset]"
   ]
  },
  {
   "attachments": {},
   "cell_type": "markdown",
   "metadata": {},
   "source": [
    "### The functions used to make a line of best fit"
   ]
  },
  {
   "cell_type": "code",
   "execution_count": 60,
   "metadata": {},
   "outputs": [
    {
     "name": "stderr",
     "output_type": "stream",
     "text": [
      "c:\\Users\\micha\\AppData\\Local\\Programs\\Python\\Python311\\Lib\\site-packages\\scipy\\optimize\\_minpack_py.py:906: OptimizeWarning: Covariance of the parameters could not be estimated\n",
      "  warnings.warn('Covariance of the parameters could not be estimated',\n"
     ]
    },
    {
     "ename": "KeyboardInterrupt",
     "evalue": "",
     "output_type": "error",
     "traceback": [
      "\u001b[1;31m---------------------------------------------------------------------------\u001b[0m",
      "\u001b[1;31mKeyboardInterrupt\u001b[0m                         Traceback (most recent call last)",
      "Cell \u001b[1;32mIn[60], line 15\u001b[0m\n\u001b[0;32m     13\u001b[0m est_offset \u001b[39m=\u001b[39m np\u001b[39m.\u001b[39mempty(\u001b[39mlen\u001b[39m(a))\n\u001b[0;32m     14\u001b[0m \u001b[39mfor\u001b[39;00m i \u001b[39min\u001b[39;00m \u001b[39mrange\u001b[39m(\u001b[39mlen\u001b[39m(a)):\n\u001b[1;32m---> 15\u001b[0m     popt, pcov\u001b[39m=\u001b[39m curve_fit(sinfunc, x_line, y,  p0 \u001b[39m=\u001b[39;49m [a[i], w[i], p, c])\n\u001b[0;32m     16\u001b[0m     est_amps[i] \u001b[39m=\u001b[39m popt[\u001b[39m0\u001b[39m]\n\u001b[0;32m     17\u001b[0m     est_freq[i] \u001b[39m=\u001b[39m popt[\u001b[39m1\u001b[39m]\n",
      "File \u001b[1;32mc:\\Users\\micha\\AppData\\Local\\Programs\\Python\\Python311\\Lib\\site-packages\\scipy\\optimize\\_minpack_py.py:859\u001b[0m, in \u001b[0;36mcurve_fit\u001b[1;34m(f, xdata, ydata, p0, sigma, absolute_sigma, check_finite, bounds, method, jac, full_output, **kwargs)\u001b[0m\n\u001b[0;32m    856\u001b[0m \u001b[39mif\u001b[39;00m ydata\u001b[39m.\u001b[39msize \u001b[39m!=\u001b[39m \u001b[39m1\u001b[39m \u001b[39mand\u001b[39;00m n \u001b[39m>\u001b[39m ydata\u001b[39m.\u001b[39msize:\n\u001b[0;32m    857\u001b[0m     \u001b[39mraise\u001b[39;00m \u001b[39mTypeError\u001b[39;00m(\u001b[39mf\u001b[39m\u001b[39m\"\u001b[39m\u001b[39mThe number of func parameters=\u001b[39m\u001b[39m{\u001b[39;00mn\u001b[39m}\u001b[39;00m\u001b[39m must not\u001b[39m\u001b[39m\"\u001b[39m\n\u001b[0;32m    858\u001b[0m                     \u001b[39mf\u001b[39m\u001b[39m\"\u001b[39m\u001b[39m exceed the number of data points=\u001b[39m\u001b[39m{\u001b[39;00mydata\u001b[39m.\u001b[39msize\u001b[39m}\u001b[39;00m\u001b[39m\"\u001b[39m)\n\u001b[1;32m--> 859\u001b[0m res \u001b[39m=\u001b[39m leastsq(func, p0, Dfun\u001b[39m=\u001b[39;49mjac, full_output\u001b[39m=\u001b[39;49m\u001b[39m1\u001b[39;49m, \u001b[39m*\u001b[39;49m\u001b[39m*\u001b[39;49mkwargs)\n\u001b[0;32m    860\u001b[0m popt, pcov, infodict, errmsg, ier \u001b[39m=\u001b[39m res\n\u001b[0;32m    861\u001b[0m ysize \u001b[39m=\u001b[39m \u001b[39mlen\u001b[39m(infodict[\u001b[39m'\u001b[39m\u001b[39mfvec\u001b[39m\u001b[39m'\u001b[39m])\n",
      "\u001b[1;31mKeyboardInterrupt\u001b[0m: "
     ]
    }
   ],
   "source": [
    "\n",
    "def sinfunc(x, a, w, p, c):\n",
    "    return a * np.sin(x*w+p) + c\n",
    "\n",
    "#def combine_funcs(x_line, y, a, w, p, c):\n",
    "x_line, y, a, w, p, c=x_line, y, amp, freq*np.pi*2, 0, guess_offset\n",
    "\n",
    "\n",
    "\n",
    "total = np.zeros(shape=len(x_line))\n",
    "est_amps = np.empty(len(a))\n",
    "est_freq = np.empty(len(a))\n",
    "est_phase = np.empty(len(a))\n",
    "est_offset = np.empty(len(a))\n",
    "for i in range(len(a)):\n",
    "    popt, pcov= curve_fit(sinfunc, x_line, y,  p0 = [a[i], w[i], p, c])\n",
    "    est_amps[i] = popt[0]\n",
    "    est_freq[i] = popt[1]\n",
    "    est_phase[i] = popt[2]\n",
    "    est_offset[i] = popt[3]\n",
    "    #total += sinfunc(x_line, popt[0], popt[1], popt[2], 0)\n",
    "\n",
    "ind = np.argpartition(est_amps, -4)[-4:]\n",
    "print(ind)\n",
    "for i in ind:\n",
    "    print(est_amps[ind])\n",
    "    total += sinfunc(x_line, est_amps[i], est_freq[i], est_phase[i], est_offset[i])\n",
    "\n",
    "\n"
   ]
  },
  {
   "cell_type": "code",
   "execution_count": 44,
   "metadata": {},
   "outputs": [
    {
     "name": "stdout",
     "output_type": "stream",
     "text": [
      "306\n",
      "1.5129508593560882e-07\n",
      "[0. 0. 0. 0. 0. 0. 0. 0. 0. 0. 0. 0. 0. 0. 0. 0. 0. 0. 0. 0. 0. 0. 0. 0.\n",
      " 0. 0. 0. 0. 0. 0. 0. 0. 0. 0. 0. 0. 0. 0. 0. 0. 0. 0. 0. 0. 0. 0. 0. 0.\n",
      " 0. 0. 0. 0. 0. 0. 0. 0. 0. 0. 0. 0. 0. 0. 0. 0. 0. 0. 0. 0. 0. 0. 0. 0.\n",
      " 0. 0. 0. 0. 0. 0. 0. 0. 0. 0. 0. 0. 0. 0. 0. 0. 0. 0. 0. 0. 0. 0. 0. 0.\n",
      " 0. 0. 0. 0. 0. 0. 0. 0. 0. 0. 0. 0. 0. 0. 0. 0. 0. 0. 0. 0. 0. 0. 0. 0.\n",
      " 0. 0. 0. 0. 0. 0. 0. 0. 0. 0. 0. 0. 0. 0. 0. 0. 0. 0. 0. 0. 0. 0. 0. 0.\n",
      " 0. 0. 0. 0. 0. 0. 0. 0. 0. 0. 0. 0. 0. 0. 0. 0. 0. 0. 0. 0. 0. 0. 0. 0.\n",
      " 0. 0. 0. 0. 0. 0. 0. 0. 0. 0. 0. 0. 0. 0. 0. 0. 0. 0. 0. 0. 0. 0. 0. 0.\n",
      " 0. 0. 0. 0. 0. 0. 0. 0. 0. 0. 0. 0. 0. 0. 0. 0. 0. 0. 0. 0. 0. 0. 0. 0.\n",
      " 0. 0. 0. 0. 0. 0. 0. 0. 0. 0. 0. 0. 0. 0. 0. 0. 0. 0. 0. 0. 0. 0. 0. 0.\n",
      " 0. 0. 0. 0. 0. 0. 0. 0. 0. 0. 0. 0. 0. 0. 0. 0. 0. 0. 0. 0. 0. 0. 0. 0.\n",
      " 0. 0. 0. 0. 0. 0. 0. 0. 0. 0. 0. 0. 0. 0. 0. 0. 0. 0. 0. 0. 0. 0. 0. 0.\n",
      " 0. 0. 0. 0. 0. 0. 0. 0. 0. 0. 0. 0. 0. 0. 0. 0. 0. 0.]\n"
     ]
    },
    {
     "name": "stderr",
     "output_type": "stream",
     "text": [
      "c:\\Users\\micha\\AppData\\Local\\Programs\\Python\\Python311\\Lib\\site-packages\\scipy\\optimize\\_minpack_py.py:906: OptimizeWarning: Covariance of the parameters could not be estimated\n",
      "  warnings.warn('Covariance of the parameters could not be estimated',\n"
     ]
    },
    {
     "name": "stdout",
     "output_type": "stream",
     "text": [
      "[304 305 153   0]\n",
      "[1.81881229e+02 1.81881303e+02 1.94250000e+03 1.92570000e+05]\n",
      "[1.81881229e+02 1.81881303e+02 1.94250000e+03 1.92570000e+05]\n",
      "[1.81881229e+02 1.81881303e+02 1.94250000e+03 1.92570000e+05]\n",
      "[1.81881229e+02 1.81881303e+02 1.94250000e+03 1.92570000e+05]\n"
     ]
    }
   ],
   "source": [
    "\n",
    "#print(guess)\n",
    "#print(freq)\n",
    "y_line2 = combine_funcs(x_line, y, amp, freq*np.pi*2, 0, guess_offset)\n"
   ]
  },
  {
   "cell_type": "code",
   "execution_count": 50,
   "metadata": {},
   "outputs": [
    {
     "data": {
      "text/plain": [
       "[<matplotlib.lines.Line2D at 0x2923ad8ced0>]"
      ]
     },
     "execution_count": 50,
     "metadata": {},
     "output_type": "execute_result"
    },
    {
     "data": {
      "image/png": "[encoded data removed]",
      "text/plain": [
       "<Figure size 1200x600 with 1 Axes>"
      ]
     },
     "metadata": {},
     "output_type": "display_data"
    }
   ],
   "source": [
    "\n",
    "fig, ax = plt.subplots(figsize = (12, 6))\n",
    "ax.scatter(x, y, color = 'red', marker='.')\n",
    "ax.plot(x, y_line2/30+400)"
   ]
  },
  {
   "cell_type": "code",
   "execution_count": null,
   "metadata": {},
   "outputs": [],
   "source": []
  }
 ],
 "metadata": {
  "kernelspec": {
   "display_name": "Python 3",
   "language": "python",
   "name": "python3"
  },
  "language_info": {
   "codemirror_mode": {
    "name": "ipython",
    "version": 3
   },
   "file_extension": ".py",
   "mimetype": "text/x-python",
   "name": "python",
   "nbconvert_exporter": "python",
   "pygments_lexer": "ipython3",
   "version": "3.11.1"
  },
  "orig_nbformat": 4,
  "vscode": {
   "interpreter": {
    "hash": "7cf7a49d1a42a4809de0f3a1e252970087c14d6ced0f604115bf5aeb4902f00f"
   }
  }
 },
 "nbformat": 4,
 "nbformat_minor": 2
}
