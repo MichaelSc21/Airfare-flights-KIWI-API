{
 "cells": [
  {
   "cell_type": "code",
   "execution_count": 2,
   "metadata": {},
   "outputs": [],
   "source": [
    "import matplotlib.pyplot as plt\n",
    "import pandas as pd\n",
    "import numpy as np\n",
    "import json\n",
    "import sys\n",
    "from scipy.optimize import curve_fit, leastsq\n",
    "\n",
    "%matplotlib inline"
   ]
  },
  {
   "attachments": {},
   "cell_type": "markdown",
   "metadata": {},
   "source": [
    "### Fetching the data from the files"
   ]
  },
  {
   "cell_type": "code",
   "execution_count": 6,
   "metadata": {},
   "outputs": [],
   "source": [
    "def create_df(filename):\n",
    "    df= pd.read_json(filename)\n",
    "    return df\n",
    "\n",
    "def filter_data(df):    \n",
    "    mean = df['price'].mean()\n",
    "    std = df['price'].std()\n",
    "    lower_range = mean - 2*std\n",
    "    upper_range = mean + 2*std\n",
    "    mask = (df['price'] >= lower_range) & (df['price'] <= upper_range)\n",
    "\n",
    "    df['price'] = df['price'][mask]\n",
    "    df['duration'] = df['duration'][mask]\n",
    "\n",
    "    df['departure'] = pd.to_datetime(df['departure'].str[:10])\n",
    "\n",
    "    df.index = df['departure']\n",
    "    return df\n",
    "    \n",
    "def sort_by_date(df):\n",
    "    df2 = pd.DataFrame(index=df.index.unique(), columns=['price'])\n",
    "\n",
    "    for i in df.index.unique():\n",
    "        df2.loc[i] = pd.Series(df.loc[i, 'price']).quantile(q=0.15)\n",
    "    return df2\n",
    "\n"
   ]
  },
  {
   "cell_type": "code",
   "execution_count": 4,
   "metadata": {},
   "outputs": [],
   "source": [
    "def hist(df, bin):\n",
    "\n",
    "    x = df['price']\n",
    "    fig, ax = plt.subplots(figsize = (12, 6))\n",
    "    ax.legend(['The price density of flights from BHX to IAS'])\n",
    "    ax.set_xlabel('price')\n",
    "    ax.set_ylabel('density')\n",
    "    ax.set_xticks(np.arange(0, np.max(x)+1, 100))\n",
    "    ax.hist(x, bins=bin)"
   ]
  },
  {
   "attachments": {},
   "cell_type": "markdown",
   "metadata": {},
   "source": [
    "### Second attempt at trying to find a line of best fit for my data"
   ]
  },
  {
   "cell_type": "code",
   "execution_count": 98,
   "metadata": {},
   "outputs": [],
   "source": [
    "\n",
    "y = df2['price']\n",
    "x = df2.index\n",
    "\n",
    "x_line= (x - pd.Timestamp(\"01/01/1970\")) // pd.Timedelta('1s')\n",
    "\n",
    "# Finding the amplitude of the sin waves\n",
    "amp = abs(np.fft.fft(y))\n",
    "# Finding the frequency of the sin waves\n",
    "freq = np.fft.fftfreq(len(x_line), (x_line[1]-x_line[0]))\n",
    "guess_amp = np.std(y) * 2**0.5\n",
    "guess_freq = abs(freq[np.argmax(amp[1:])+1])\n",
    "print(guess_freq)\n",
    "phase = 0\n",
    "guess_offset = np.mean(y)\n",
    "guess = [guess_amp, 2*np.pi*guess_freq, phase,  guess_offset]\n",
    "\n",
    "\n",
    "def sinfunc(x, a, w, p, c):\n",
    "    return a * np.sin(x*w+p)  + c\n",
    "\n",
    "def combine_funcs(x_line, y, a, w, p, c):\n",
    "#x_line, y, a, w, p, c=x_line, y, amp, freq*np.pi*2, 0, guess_offset\n",
    "\n",
    "\n",
    "\n",
    "    total = np.zeros(shape=len(x_line))\n",
    "    est_amps = np.empty(len(a))\n",
    "    est_freq = np.empty(len(a))\n",
    "    est_phase = np.empty(len(a))\n",
    "    est_offset = np.empty(len(a))\n",
    "    for i in range(len(a)):\n",
    "        popt, pcov= curve_fit(sinfunc, x_line, y,  p0 = [a[i], w[i], p, c])\n",
    "        est_amps[i] = popt[0]\n",
    "        est_freq[i] = popt[1]\n",
    "        est_phase[i] = popt[2]\n",
    "        est_offset[i] = popt[3]\n",
    "        #total += sinfunc(x_line, popt[0], popt[1], popt[2], 0)\n",
    "\n",
    "    ind = np.argpartition(est_amps, -10)[-10:]\n",
    "    print(ind)\n",
    "    print(est_amps)\n",
    "    for i in range(len(a)):\n",
    "        print(est_amps[i])\n",
    "        total += sinfunc(x_line, est_amps[i], est_freq[i], est_phase[i], est_offset[i])\n",
    "\n",
    "\n",
    "    return total\n",
    "\n",
    "popt, pcov = curve_fit(sinfunc, x_line, y, p0=[guess_amp, 2*np.pi*guess_freq, phase, guess_offset])\n",
    "y_line2= sinfunc(x_line, *popt)\n",
    "print(popt)\n",
    "\n",
    "fig, ax = plt.subplots(figsize = (12, 6))\n",
    "ax.scatter(x, y, color = 'red', marker='.')\n",
    "ax.plot(x, y_line2/300+400)"
   ]
  },
  {
   "attachments": {},
   "cell_type": "markdown",
   "metadata": {},
   "source": [
    "### Third attempt at trying to find a line of best fit for my data"
   ]
  },
  {
   "cell_type": "code",
   "execution_count": null,
   "metadata": {},
   "outputs": [],
   "source": [
    "y = df2['price']\n",
    "x = df2.index\n",
    "print(type(y))\n",
    "\n",
    "def using_legendre(x, y):\n",
    "    x_line= (x - pd.Timestamp(\"01/01/1970\")) // pd.Timedelta('1s')\n",
    "    y = y.astype(int)\n",
    "\n",
    "    V = np.polynomial.legendre.legvander(x_line, 20)\n",
    "\n",
    "    coeffs = np.linalg.lstsq(V, y, rcond=None)[0]\n",
    "    g = np.polynomial.legendre.legval(x_line, coeffs)\n",
    "    print(g)\n",
    "    return g\n",
    "y_line3 = using_legendre(x, y)\n",
    "fig, ax = plt.subplots(figsize = (12, 6))\n",
    "ax.scatter(x, y, color = 'red', marker='.')\n",
    "ax.plot(x, y_line3)"
   ]
  },
  {
   "attachments": {},
   "cell_type": "markdown",
   "metadata": {},
   "source": [
    "### Fourth attempt at trying to find a line of best fit, using lmfit. This is very similar to just curve_fit, but a lot harder to use"
   ]
  },
  {
   "cell_type": "code",
   "execution_count": 144,
   "metadata": {},
   "outputs": [
    {
     "name": "stdout",
     "output_type": "stream",
     "text": [
      "['a1', 'a2', 'a3', 'w1', 'w2', 'w3', 'p', 'c']\n"
     ]
    }
   ],
   "source": [
    "from lmfit import Model\n",
    "\n",
    "x_line= (x - pd.Timestamp(\"01/01/1970\")) // pd.Timedelta('1s')\n",
    "amp = abs(np.fft.fft(y))\n",
    "freq = np.fft.fftfreq(len(x_line), (x_line[1]-x_line[0]))\n",
    "guess_freq = abs(freq[np.argmax(amp[1:])+1])\n",
    "guess_amp = np.std(y) * 2**0.5\n",
    "guess_offset = np.mean(y)\n",
    "\n",
    "def function_model(x, a1, a2, a3, w1, w2, w3, p, c):\n",
    "    return a1 * np.sin(x*w1+p) + a2* np.sin(x*w2+p) + a3 * np.sin(x*w3+p) + c\n",
    "\n",
    "guess= [guess_amp, guess_amp, guess_amp, guess_freq*np.pi*2, guess_freq*np.pi*2, guess_freq*np.pi*2, 0, guess_offset]\n",
    "gmodel = Model(function_model)\n",
    "print(gmodel.param_names)\n",
    "y_line = gmodel.fit(y,a1=guess[0], a2=guess[1], a3=guess[2], w1=guess[3], w2=guess[4], w3=guess[5], p=guess[6], c=guess[7], x=x_line)\n",
    "fig, ax = plt.subplots(figsize = (12, 6))\n",
    "ax.scatter(x, y, color = 'red', marker='.')\n",
    "print(y_line)\n",
    "ax.plot(x, y_line.best_fit)\n"
   ]
  },
  {
   "attachments": {},
   "cell_type": "markdown",
   "metadata": {},
   "source": [
    "### Loading data to then comapare it to data from other files"
   ]
  },
  {
   "cell_type": "code",
   "execution_count": 20,
   "metadata": {},
   "outputs": [],
   "source": [
    "BHX_to_IAS = create_df('BHX_to_IAS.json')\n",
    "BHX_to_IAS = filter_data(BHX_to_IAS)\n",
    "BHX_to_IAS2 = sort_by_date(BHX_to_IAS)\n",
    "\n",
    "LTN_to_IAS = create_df('LTN_to_IAS.json')\n",
    "LTN_to_IAS = filter_data(LTN_to_IAS)\n",
    "LTN_to_IAS2 = sort_by_date(LTN_to_IAS)\n",
    "\n",
    "MAN_to_IAS = create_df('MAN_to_IAS.json')\n",
    "MAN_to_IAS = filter_data(MAN_to_IAS)\n",
    "MAN_to_IAS2 = sort_by_date(MAN_to_IAS)"
   ]
  },
  {
   "cell_type": "code",
   "execution_count": 30,
   "metadata": {},
   "outputs": [
    {
     "data": {
      "image/png": "[encoded data removed]",
      "text/plain": [
       "<Figure size 1200x600 with 1 Axes>"
      ]
     },
     "metadata": {},
     "output_type": "display_data"
    }
   ],
   "source": [
    "def plot(df,filename,  ax, colour):\n",
    "    x = df.index\n",
    "    y = df['price']\n",
    "    #x_line= (x - pd.Timestamp(\"01/01/1970\")) // pd.Timedelta('1s')\n",
    "\n",
    "    \n",
    "    ax.set_ylabel('Price in GBP')\n",
    "    #ax.set_yticks(np.arange(0, np.max(y)+1, 100))\n",
    "    ax.set_xlabel('Date')\n",
    "    ax.scatter(x, y, marker ='.', color=colour, label=filename)\n",
    "    ax.legend()\n",
    "\n",
    "fig, ax = plt.subplots(figsize =(12, 6))\n",
    "#plot(BHX_to_IAS2,'BHX_to_IAS', ax, colour='red')\n",
    "plot(MAN_to_IAS2, 'MAN_to_IAS', ax, colour='blue')\n",
    "plot(LTN_to_IAS2, 'LTN_to_IAS', ax, colour='green')\n",
    "\n"
   ]
  },
  {
   "cell_type": "code",
   "execution_count": null,
   "metadata": {},
   "outputs": [],
   "source": []
  }
 ],
 "metadata": {
  "kernelspec": {
   "display_name": "Python 3",
   "language": "python",
   "name": "python3"
  },
  "language_info": {
   "codemirror_mode": {
    "name": "ipython",
    "version": 3
   },
   "file_extension": ".py",
   "mimetype": "text/x-python",
   "name": "python",
   "nbconvert_exporter": "python",
   "pygments_lexer": "ipython3",
   "version": "3.11.1"
  },
  "orig_nbformat": 4,
  "vscode": {
   "interpreter": {
    "hash": "7cf7a49d1a42a4809de0f3a1e252970087c14d6ced0f604115bf5aeb4902f00f"
   }
  }
 },
 "nbformat": 4,
 "nbformat_minor": 2
}
