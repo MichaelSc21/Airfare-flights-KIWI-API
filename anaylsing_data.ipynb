{
 "cells": [
  {
   "cell_type": "code",
   "execution_count": 2,
   "metadata": {},
   "outputs": [],
   "source": [
    "import matplotlib.pyplot as plt\n",
    "import pandas as pd\n",
    "import numpy as np\n",
    "import json\n",
    "import sys\n",
    "from scipy.optimize import curve_fit, leastsq\n",
    "\n",
    "%matplotlib inline"
   ]
  },
  {
   "attachments": {},
   "cell_type": "markdown",
   "metadata": {},
   "source": [
    "### Fetching the data from the files"
   ]
  },
  {
   "cell_type": "code",
   "execution_count": 4,
   "metadata": {},
   "outputs": [],
   "source": [
    "def create_df(filename):\n",
    "    df= pd.read_json(filename)\n",
    "    return df\n",
    "\n",
    "def filter_data(df):    \n",
    "    mean = df['price'].mean()\n",
    "    std = df['price'].std()\n",
    "    lower_range = mean - 2*std\n",
    "    upper_range = mean + 2*std\n",
    "    mask = (df['price'] >= lower_range) & (df['price'] <= upper_range)\n",
    "    print(len(df['price']))\n",
    "    df = df.loc[mask]\n",
    "    print(len(df['price']))\n",
    "\n",
    "    df['departure'] = pd.to_datetime(df['departure'].str[:10])\n",
    "\n",
    "    df.index = df['departure']\n",
    "    return df\n",
    "    \n",
    "def sort_by_date(df):\n",
    "    df2 = pd.DataFrame(index=df.index.unique(), columns=['price'])\n",
    "\n",
    "    for i in df.index.unique():\n",
    "        df2.loc[i] = pd.Series(df.loc[i, 'price']).quantile(q=0.15)\n",
    "    return df2\n",
    "\n"
   ]
  },
  {
   "attachments": {},
   "cell_type": "markdown",
   "metadata": {},
   "source": [
    "### Loading data to then comapare it to data from other files"
   ]
  },
  {
   "cell_type": "code",
   "execution_count": 285,
   "metadata": {},
   "outputs": [
    {
     "name": "stdout",
     "output_type": "stream",
     "text": [
      "14527\n",
      "14113\n"
     ]
    },
    {
     "name": "stderr",
     "output_type": "stream",
     "text": [
      "C:\\Users\\micha\\AppData\\Local\\Temp\\ipykernel_17788\\3184079549.py:15: SettingWithCopyWarning: \n",
      "A value is trying to be set on a copy of a slice from a DataFrame.\n",
      "Try using .loc[row_indexer,col_indexer] = value instead\n",
      "\n",
      "See the caveats in the documentation: https://pandas.pydata.org/pandas-docs/stable/user_guide/indexing.html#returning-a-view-versus-a-copy\n",
      "  df['departure'] = pd.to_datetime(df['departure'].str[:10])\n"
     ]
    },
    {
     "name": "stdout",
     "output_type": "stream",
     "text": [
      "4007\n",
      "3877\n"
     ]
    },
    {
     "name": "stderr",
     "output_type": "stream",
     "text": [
      "C:\\Users\\micha\\AppData\\Local\\Temp\\ipykernel_17788\\3184079549.py:15: SettingWithCopyWarning: \n",
      "A value is trying to be set on a copy of a slice from a DataFrame.\n",
      "Try using .loc[row_indexer,col_indexer] = value instead\n",
      "\n",
      "See the caveats in the documentation: https://pandas.pydata.org/pandas-docs/stable/user_guide/indexing.html#returning-a-view-versus-a-copy\n",
      "  df['departure'] = pd.to_datetime(df['departure'].str[:10])\n"
     ]
    },
    {
     "name": "stdout",
     "output_type": "stream",
     "text": [
      "11538\n",
      "11163\n"
     ]
    },
    {
     "name": "stderr",
     "output_type": "stream",
     "text": [
      "C:\\Users\\micha\\AppData\\Local\\Temp\\ipykernel_17788\\3184079549.py:15: SettingWithCopyWarning: \n",
      "A value is trying to be set on a copy of a slice from a DataFrame.\n",
      "Try using .loc[row_indexer,col_indexer] = value instead\n",
      "\n",
      "See the caveats in the documentation: https://pandas.pydata.org/pandas-docs/stable/user_guide/indexing.html#returning-a-view-versus-a-copy\n",
      "  df['departure'] = pd.to_datetime(df['departure'].str[:10])\n"
     ]
    }
   ],
   "source": [
    "BHX_to_IAS = create_df('BHX_to_IAS.json')\n",
    "BHX_to_IAS = filter_data(BHX_to_IAS)\n",
    "BHX_to_IAS2 = sort_by_date(BHX_to_IAS)\n",
    "\n",
    "LTN_to_IAS = create_df('LTN_to_IAS.json')\n",
    "LTN_to_IAS = filter_data(LTN_to_IAS)\n",
    "LTN_to_IAS2 = sort_by_date(LTN_to_IAS)\n",
    "\n",
    "MAN_to_IAS = create_df('MAN_to_IAS.json')\n",
    "MAN_to_IAS = filter_data(MAN_to_IAS)\n",
    "MAN_to_IAS2 = sort_by_date(MAN_to_IAS)\n",
    "df_dict={'BHX_to_IAS':BHX_to_IAS2,\n",
    "         'MAN_to_IAS':MAN_to_IAS2,\n",
    "         'LTN_to_IAS':LTN_to_IAS2\n",
    "         }"
   ]
  },
  {
   "cell_type": "code",
   "execution_count": 3,
   "metadata": {},
   "outputs": [],
   "source": [
    "def hist(df, bin):\n",
    "\n",
    "    x = df['price']\n",
    "    fig, ax = plt.subplots(figsize = (12, 6))\n",
    "    ax.legend(['The price density of flights from BHX to IAS'])\n",
    "    ax.set_xlabel('price')\n",
    "    ax.set_ylabel('density')\n",
    "    ax.set_xticks(np.arange(0, np.max(x)+1, 100))\n",
    "    ax.hist(x, bins=bin)"
   ]
  },
  {
   "attachments": {},
   "cell_type": "markdown",
   "metadata": {},
   "source": [
    "### Second attempt at trying to find a line of best fit for my data"
   ]
  },
  {
   "cell_type": "code",
   "execution_count": null,
   "metadata": {},
   "outputs": [],
   "source": [
    "def sinfunc(x, a, w, p):\n",
    "    return a * np.sin(x*w+p)\n",
    "\n",
    "#def line_best_fit(df,ax, filename, colour):\n",
    "df = df_dict['MAN_to_IAS']\n",
    "y = df['price']\n",
    "x = df.index\n",
    "#x_line= (x - pd.Timestamp(\"01/01/1970\")) // pd.Timedelta('1s')\n",
    "x_line = x.astype(int) / 10**9\n",
    "\n",
    "# Finding the amplitude of the sin waves\n",
    "amp = abs(np.fft.fft(y))\n",
    "# Finding the frequency of the sin waves\n",
    "freq = np.fft.fftfreq(len(x_line), (x_line[1]-x_line[0]))\n",
    "guess_amp = np.std(y) * 2**0.5\n",
    "guess_freq = abs(freq[np.argmax(amp[1:])+1])\n",
    "print(guess_freq)\n",
    "phase = 0\n",
    "guess_offset = np.mean(y) * 2**0.5\n",
    "guess = [guess_amp, 2*np.pi*guess_freq, phase,  guess_offset]\n",
    "\n",
    "def combine_funcs(x_line, y, a, w, p, c):\n",
    "#x_line, y, a, w, p, c=x_line, y, amp, freq*np.pi*2, 0, guess_offset\n",
    "    total = np.zeros(shape=len(x_line))\n",
    "    est_amps = np.empty(len(a))\n",
    "    est_freq = np.empty(len(a))\n",
    "    est_phase = np.empty(len(a))\n",
    "    est_offset = np.empty(len(a))\n",
    "    x_line -= c\n",
    "    for i in range(len(a)):\n",
    "        popt, pcov= curve_fit(sinfunc, x_line, y,  p0 = [a[i], w[i], p])\n",
    "        est_amps[i] = popt[0]\n",
    "        est_freq[i] = popt[1]\n",
    "        est_phase[i] = popt[2]\n",
    "        #est_offset[i] = popt[3]\n",
    "\n",
    "    ind = np.argpartition(est_amps, -8)[-8:]\n",
    "    print(ind)\n",
    "    print(est_amps)\n",
    "    for i in ind:\n",
    "        print(est_amps[i])\n",
    "        total += sinfunc(x_line, est_amps[i], est_freq[i], est_phase[i]) \n",
    "    \n",
    "    est_values = [est_amps, est_freq, est_phase, est_offset]\n",
    "    \n",
    "    return total + c, est_values\n",
    "\n",
    "y_line2, est_values= combine_funcs(x_line,y, amp, 2*np.pi*freq, phase,  guess_offset)\n",
    "#ax.scatter(x, y, color = 'red', marker='.', color=colour)\n",
    "#ax.plot(x, y_line2, color=colour, label=filename)\n",
    "\n",
    "#return y_line2, x, y, est_values\n"
   ]
  },
  {
   "attachments": {},
   "cell_type": "markdown",
   "metadata": {},
   "source": [
    "### Trying to do curve_fit on the fourier model that I have"
   ]
  },
  {
   "cell_type": "code",
   "execution_count": null,
   "metadata": {},
   "outputs": [],
   "source": [
    "def second_model(x, a, b):\n",
    "    return x*a + b\n",
    "\n",
    "\n",
    "#y_line2, x, y, est_values= line_best_fit(df_dict['BHX_to_IAS'], 0, 'MAN_to_IAS', 'red')\n",
    "\n",
    "x_line_dense = np.linspace(x_line.min(), x_line.max(), 4*len(x_line))\n",
    "print(len(x_line))\n",
    "\n",
    "x_dense = pd.to_datetime(x_line_dense, unit='s')\n",
    "y_dense = np.zeros(shape=len(x_line_dense))\n",
    "\n",
    "\n",
    "ind = np.argpartition(est_values[0], -7)[-7:]\n",
    "for i in ind:\n",
    "    print(f\"Estimated ampliteude: {est_values[0][i]}\")\n",
    "    print(f\"Estimated frequency: {est_values[1][i]}\")\n",
    "    print(f\"Estimated phase: {est_values[2][i]}\")  \n",
    "    print(f\"Estimated offset: {est_values[3][i]}\")\n",
    "    print(\"\"\"\n",
    "    \n",
    "    \"\"\")\n",
    "    y_dense += sinfunc(x_line_dense, est_values[0][i], est_values[1][i],est_values[2][i]) \n",
    "#y_line3 += est_values[3][len(ind)+1]\n",
    "\n",
    "popt, pcov = curve_fit(second_model, y_dense, x_line_dense, p0=[0.2, 0 ])\n",
    "print(popt)\n",
    "y_line3 = second_model(x_line_dense, *popt)\n",
    "\n",
    "fig, ax = plt.subplots(figsize = (12, 6))\n",
    "ax.scatter(x, y, color = 'red', marker='.',label = 'MAN_to_IAS')\n",
    "ax.plot(x_dense,y_dense/1.8)\n",
    "ax.legend(fontsize=12)\n",
    "ax.set_title('Price of flights in the bottom 15% for 4 adults')\n",
    "\n"
   ]
  },
  {
   "attachments": {},
   "cell_type": "markdown",
   "metadata": {},
   "source": [
    "### Third attempt at trying to find a line of best fit for my data"
   ]
  },
  {
   "cell_type": "code",
   "execution_count": null,
   "metadata": {},
   "outputs": [],
   "source": [
    "y = df2['price']\n",
    "x = df2.index\n",
    "print(type(y))\n",
    "\n",
    "def using_legendre(x, y):\n",
    "    x_line= (x - pd.Timestamp(\"01/01/1970\")) // pd.Timedelta('1s')\n",
    "    y = y.astype(int)\n",
    "\n",
    "    V = np.polynomial.legendre.legvander(x_line, 20)\n",
    "\n",
    "    coeffs = np.linalg.lstsq(V, y, rcond=None)[0]\n",
    "    g = np.polynomial.legendre.legval(x_line, coeffs)\n",
    "    print(g)\n",
    "    return g\n",
    "y_line3 = using_legendre(x, y)\n",
    "fig, ax = plt.subplots(figsize = (12, 6))\n",
    "ax.scatter(x, y, color = 'red', marker='.')\n",
    "ax.plot(x, y_line3)"
   ]
  },
  {
   "attachments": {},
   "cell_type": "markdown",
   "metadata": {},
   "source": [
    "### Fourth attempt at trying to find a line of best fit, using lmfit. This is very similar to just curve_fit, but a lot harder to use"
   ]
  },
  {
   "cell_type": "code",
   "execution_count": null,
   "metadata": {},
   "outputs": [],
   "source": [
    "from lmfit import Model\n",
    "\n",
    "x_line= (x - pd.Timestamp(\"01/01/1970\")) // pd.Timedelta('1s')\n",
    "amp = abs(np.fft.fft(y))\n",
    "freq = np.fft.fftfreq(len(x_line), (x_line[1]-x_line[0]))\n",
    "guess_freq = abs(freq[np.argmax(amp[1:])+1])\n",
    "guess_amp = np.std(y) * 2**0.5\n",
    "guess_offset = np.mean(y)\n",
    "\n",
    "def function_model(x, a, b, c, d, e):\n",
    "    return a*x**4+ b*x**3 + c*x**2 + d*x+ e\n",
    "\n",
    "gmodel=Model(function_model)\n",
    "print(gmodel.param_names)\n",
    "y_line = gmodel.fit(y,a=3.626958976874177e-26, b=-2.4520898007792085e-16,c=6.216654717368882e-07, d=-700.4707189970496, e= 295971487668.4085, x=x_line)\n",
    "fig, ax = plt.subplots(figsize = (12, 6))\n",
    "ax.scatter(x, y, color = 'red', marker='.')\n",
    "print(y_line)\n",
    "ax.plot(x, y_line.best_fit)\n"
   ]
  },
  {
   "attachments": {},
   "cell_type": "markdown",
   "metadata": {},
   "source": [
    "### Fifth attempt at getting a line of best fit by just modelling a polynomial"
   ]
  },
  {
   "cell_type": "code",
   "execution_count": null,
   "metadata": {},
   "outputs": [],
   "source": [
    "y = MAN_to_IAS2['price']\n",
    "x = MAN_to_IAS2.index\n",
    "#x_line= (x - pd.Timestamp(\"01/01/1970\")) // pd.Timedelta('1s')\n",
    "y = y.astype(int)\n",
    "x = x.astype(int)\n",
    "x_line_dense = np.linspace(x_line.min(), x_line.max(), 4*len(x_line))\n",
    "print(len(x_line))\n",
    "x_dense = pd.to_datetime(x_line_dense, unit='s')\n",
    "\n",
    "p= np.polyfit(x_line, y, 12)\n",
    "y_line = np.polyval(p, x_line_dense)\n",
    "fig, ax = plt.subplots(figsize=(12, 6))\n",
    "ax.plot(x_dense, y_line)\n",
    "ax.scatter(x, y, marker='.')\n",
    "\n"
   ]
  },
  {
   "cell_type": "code",
   "execution_count": null,
   "metadata": {},
   "outputs": [],
   "source": [
    "def plot(df,filename,  ax, colour):\n",
    "    x = df.index\n",
    "    y = df['price']\n",
    "    x_line= x.astype(int) / 10**9\n",
    "    y = y.astype(int)\n",
    "    x_line_dense = np.linspace(x_line.min(), x_line.max(), 4*len(x_line))\n",
    "    x_dense = pd.to_datetime(x_line_dense, unit='s')\n",
    "\n",
    "    p= np.polyfit(x_line, y, 4)\n",
    "    y_line = np.polyval(p,x_line_dense)\n",
    "    ax.plot(x_dense, y_line, label=filename, color=colour)\n",
    "\n",
    "    ax.set_ylabel('Price in GBP')\n",
    "    #ax.set_yticks(np.arange(0, np.max(y)+1, 100))\n",
    "    ax.set_xlabel('Date')\n",
    "    ax.set_title('The price of a flight on each of the day of the year for 4 adults( adult > 12y/o)')\n",
    "    #ax.scatter(x, y, marker ='.', color=colour, label=filename)\n",
    "    ax.legend(fontsize=12)\n",
    "\n",
    "fig, ax = plt.subplots(figsize =(12, 6))\n",
    "plot(BHX_to_IAS2,'BHX_to_IAS', ax, colour='red')\n",
    "plot(MAN_to_IAS2,'MAN_to_IAS', ax, colour='blue')\n",
    "plot(LTN_to_IAS2,'LTN_to_IAS', ax, colour='green')\n",
    "\n"
   ]
  }
 ],
 "metadata": {
  "kernelspec": {
   "display_name": "Python 3",
   "language": "python",
   "name": "python3"
  },
  "language_info": {
   "codemirror_mode": {
    "name": "ipython",
    "version": 3
   },
   "file_extension": ".py",
   "mimetype": "text/x-python",
   "name": "python",
   "nbconvert_exporter": "python",
   "pygments_lexer": "ipython3",
   "version": "3.11.1"
  },
  "orig_nbformat": 4,
  "vscode": {
   "interpreter": {
    "hash": "7cf7a49d1a42a4809de0f3a1e252970087c14d6ced0f604115bf5aeb4902f00f"
   }
  }
 },
 "nbformat": 4,
 "nbformat_minor": 2
}
