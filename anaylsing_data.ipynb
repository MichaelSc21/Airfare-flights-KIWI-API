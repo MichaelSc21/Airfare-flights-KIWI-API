{
 "cells": [
  {
   "cell_type": "code",
   "execution_count": 9,
   "metadata": {},
   "outputs": [],
   "source": [
    "import matplotlib.pyplot as plt\n",
    "import pandas as pd\n",
    "import numpy as np\n",
    "import json\n",
    "import sys\n",
    "from scipy.optimize import curve_fit, leastsq\n",
    "\n",
    "%matplotlib inline"
   ]
  },
  {
   "attachments": {},
   "cell_type": "markdown",
   "metadata": {},
   "source": [
    "### Fetching the data from the files"
   ]
  },
  {
   "cell_type": "code",
   "execution_count": 5,
   "metadata": {},
   "outputs": [],
   "source": [
    "def create_df(filename):\n",
    "    df= pd.read_json(filename)\n",
    "    return df\n",
    "\n",
    "def filter_data(df):    \n",
    "    mean = df['price'].mean()\n",
    "    std = df['price'].std()\n",
    "    lower_range = mean - 2*std\n",
    "    upper_range = mean + 2*std\n",
    "    mask = (df['price'] >= lower_range) & (df['price'] <= upper_range)\n",
    "\n",
    "    df['price'] = df['price'][mask]\n",
    "    df['duration'] = df['duration'][mask]\n",
    "\n",
    "    df['departure'] = pd.to_datetime(df['departure'].str[:10])\n",
    "\n",
    "    df.index = df['departure']\n",
    "    return df\n",
    "    \n",
    "def sort_by_date(df):\n",
    "    df2 = pd.DataFrame(index=df.index.unique(), columns=['price'])\n",
    "\n",
    "    for i in df.index.unique():\n",
    "        df2.loc[i] = df.loc[i, 'price'].quantile(q=0.25)\n",
    "    return df2\n",
    "\n"
   ]
  },
  {
   "cell_type": "code",
   "execution_count": 11,
   "metadata": {},
   "outputs": [],
   "source": [
    "def hist(df, bin):\n",
    "\n",
    "    x = df['price']\n",
    "    fig, ax = plt.subplots(figsize = (12, 6))\n",
    "    ax.legend(['The price density of flights from BHX to IAS'])\n",
    "    ax.set_xlabel('price')\n",
    "    ax.set_ylabel('density')\n",
    "    ax.set_xticks(np.arange(0, np.max(x)+1, 100))\n",
    "    ax.hist(x, bins=bin)"
   ]
  },
  {
   "cell_type": "code",
   "execution_count": 4,
   "metadata": {},
   "outputs": [],
   "source": [
    "df = create_df('file1.json')\n",
    "df = filter_data(df)\n",
    "df2 = sort_by_date(df)"
   ]
  },
  {
   "attachments": {},
   "cell_type": "markdown",
   "metadata": {},
   "source": [
    "### Second attempt at trying to find a line of best fit for my data"
   ]
  },
  {
   "cell_type": "code",
   "execution_count": 98,
   "metadata": {},
   "outputs": [],
   "source": [
    "\n",
    "y = df2['price']\n",
    "x = df2.index\n",
    "\n",
    "x_line= (x - pd.Timestamp(\"01/01/1970\")) // pd.Timedelta('1s')\n",
    "\n",
    "# Finding the amplitude of the sin waves\n",
    "amp = abs(np.fft.fft(y))\n",
    "# Finding the frequency of the sin waves\n",
    "freq = np.fft.fftfreq(len(x_line), (x_line[1]-x_line[0]))\n",
    "guess_amp = np.std(y) * 2**0.5\n",
    "guess_freq = abs(freq[np.argmax(amp[1:])+1])\n",
    "print(guess_freq)\n",
    "phase = 0\n",
    "guess_offset = np.mean(y)\n",
    "guess = [guess_amp, 2*np.pi*guess_freq, phase,  guess_offset]\n",
    "\n",
    "\n",
    "def sinfunc(x, a, w, p, c):\n",
    "    return a * np.sin(x*w+p)  + c\n",
    "\n",
    "def combine_funcs(x_line, y, a, w, p, c):\n",
    "#x_line, y, a, w, p, c=x_line, y, amp, freq*np.pi*2, 0, guess_offset\n",
    "\n",
    "\n",
    "\n",
    "    total = np.zeros(shape=len(x_line))\n",
    "    est_amps = np.empty(len(a))\n",
    "    est_freq = np.empty(len(a))\n",
    "    est_phase = np.empty(len(a))\n",
    "    est_offset = np.empty(len(a))\n",
    "    for i in range(len(a)):\n",
    "        popt, pcov= curve_fit(sinfunc, x_line, y,  p0 = [a[i], w[i], p, c])\n",
    "        est_amps[i] = popt[0]\n",
    "        est_freq[i] = popt[1]\n",
    "        est_phase[i] = popt[2]\n",
    "        est_offset[i] = popt[3]\n",
    "        #total += sinfunc(x_line, popt[0], popt[1], popt[2], 0)\n",
    "\n",
    "    ind = np.argpartition(est_amps, -10)[-10:]\n",
    "    print(ind)\n",
    "    print(est_amps)\n",
    "    for i in range(len(a)):\n",
    "        print(est_amps[i])\n",
    "        total += sinfunc(x_line, est_amps[i], est_freq[i], est_phase[i], est_offset[i])\n",
    "\n",
    "\n",
    "    return total\n",
    "\n",
    "popt, pcov = curve_fit(sinfunc, x_line, y, p0=[guess_amp, 2*np.pi*guess_freq, phase, guess_offset])\n",
    "y_line2= sinfunc(x_line, *popt)\n",
    "print(popt)\n",
    "\n",
    "fig, ax = plt.subplots(figsize = (12, 6))\n",
    "ax.scatter(x, y, color = 'red', marker='.')\n",
    "ax.plot(x, y_line2/300+400)"
   ]
  },
  {
   "attachments": {},
   "cell_type": "markdown",
   "metadata": {},
   "source": [
    "### Third attempt at trying to find a line of best fit for my data"
   ]
  },
  {
   "cell_type": "code",
   "execution_count": 122,
   "metadata": {},
   "outputs": [
    {
     "name": "stdout",
     "output_type": "stream",
     "text": [
      "<class 'pandas.core.series.Series'>\n",
      "Float64Index([610.8468220229075, 611.0042023915229, 611.1612746735125,\n",
      "              611.3180381545875, 611.4744921194651, 611.6306358518582,\n",
      "              611.7864686344731, 611.9419897490171, 612.0971984761852,\n",
      "              612.2520940956757,\n",
      "              ...\n",
      "              640.5886643877019, 640.6190060272021, 640.6487792302639,\n",
      "               640.677982931711,  640.706616064983, 640.7346775621255,\n",
      "              640.7621663537873, 640.7890813692259, 640.8154215363073,\n",
      "               640.841185781494],\n",
      "             dtype='float64', name='departure', length=306)\n"
     ]
    },
    {
     "data": {
      "text/plain": [
       "[<matplotlib.lines.Line2D at 0x292498a4450>]"
      ]
     },
     "execution_count": 122,
     "metadata": {},
     "output_type": "execute_result"
    },
    {
     "data": {
      "image/png": "[encoded data removed]",
      "text/plain": [
       "<Figure size 1200x600 with 1 Axes>"
      ]
     },
     "metadata": {},
     "output_type": "display_data"
    }
   ],
   "source": [
    "y = df2['price']\n",
    "x = df2.index\n",
    "print(type(y))\n",
    "\n",
    "def using_legendre(x, y):\n",
    "    x_line= (x - pd.Timestamp(\"01/01/1970\")) // pd.Timedelta('1s')\n",
    "    y = y.astype(int)\n",
    "\n",
    "    V = np.polynomial.legendre.legvander(x_line, 20)\n",
    "\n",
    "    coeffs = np.linalg.lstsq(V, y, rcond=None)[0]\n",
    "    g = np.polynomial.legendre.legval(x_line, coeffs)\n",
    "    print(g)\n",
    "    return g\n",
    "y_line3 = using_legendre(x, y)\n",
    "fig, ax = plt.subplots(figsize = (12, 6))\n",
    "ax.scatter(x, y, color = 'red', marker='.')\n",
    "ax.plot(x, y_line3)"
   ]
  },
  {
   "cell_type": "code",
   "execution_count": null,
   "metadata": {},
   "outputs": [],
   "source": []
  }
 ],
 "metadata": {
  "kernelspec": {
   "display_name": "Python 3",
   "language": "python",
   "name": "python3"
  },
  "language_info": {
   "codemirror_mode": {
    "name": "ipython",
    "version": 3
   },
   "file_extension": ".py",
   "mimetype": "text/x-python",
   "name": "python",
   "nbconvert_exporter": "python",
   "pygments_lexer": "ipython3",
   "version": "3.11.1"
  },
  "orig_nbformat": 4,
  "vscode": {
   "interpreter": {
    "hash": "7cf7a49d1a42a4809de0f3a1e252970087c14d6ced0f604115bf5aeb4902f00f"
   }
  }
 },
 "nbformat": 4,
 "nbformat_minor": 2
}
