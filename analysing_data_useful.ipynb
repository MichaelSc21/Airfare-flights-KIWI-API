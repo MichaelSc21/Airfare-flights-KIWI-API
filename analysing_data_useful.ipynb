{
 "cells": [
  {
   "cell_type": "code",
   "execution_count": 1,
   "metadata": {},
   "outputs": [],
   "source": [
    "import matplotlib.pyplot as plt\n",
    "import pandas as pd\n",
    "import numpy as np\n",
    "import json\n",
    "import sys\n",
    "from scipy.optimize import curve_fit, leastsq\n",
    "\n",
    "%matplotlib inline"
   ]
  },
  {
   "cell_type": "code",
   "execution_count": 2,
   "metadata": {},
   "outputs": [],
   "source": [
    "def create_df(filename):\n",
    "    df= pd.read_json(filename)\n",
    "    return df\n",
    "\n",
    "def filter_data(df):    \n",
    "    mean = df['price'].mean()\n",
    "    std = df['price'].std()\n",
    "    lower_range = mean - 2*std\n",
    "    upper_range = mean + 2*std\n",
    "    mask = (df['price'] >= lower_range) & (df['price'] <= upper_range)\n",
    "    print(len(df['price']))\n",
    "    df = df.loc[mask]\n",
    "    print(len(df['price']))\n",
    "\n",
    "    df['departure'] = pd.to_datetime(df['departure'].str[:10])\n",
    "\n",
    "    df.index = df['departure']\n",
    "    return df\n",
    "    \n",
    "def sort_by_date(df):\n",
    "    df2 = pd.DataFrame(index=df.index.unique(), columns=['price'])\n",
    "\n",
    "    for i in df.index.unique():\n",
    "        df2.loc[i] = pd.Series(df.loc[i, 'price']).quantile(q=0.15)\n",
    "    return df2\n",
    "\n"
   ]
  },
  {
   "cell_type": "code",
   "execution_count": null,
   "metadata": {},
   "outputs": [],
   "source": [
    "df_names = ['BHX_to_IAS', 'LTN_to_IAS','MAN_to_IAS']\n",
    "dict_df = {}\n",
    "small_df = {}\n",
    "for df_name in df_names:\n",
    "    \n",
    "    dict_df[df_name] = create_df(df_name+'.json')\n",
    "    dict_df[df_name] = filter_data(dict_df[df_name])\n",
    "    small_df[df_name] = sort_by_date(dict_df[df_name])\n",
    "\n"
   ]
  },
  {
   "attachments": {},
   "cell_type": "markdown",
   "metadata": {},
   "source": [
    "### This creates a line of best fit using a series of sine waves"
   ]
  },
  {
   "cell_type": "code",
   "execution_count": 47,
   "metadata": {},
   "outputs": [],
   "source": [
    "def return_val(dict_df, df_name):\n",
    "    df = dict_df[df_name]\n",
    "    y = df['price']\n",
    "    x = df.index\n",
    "    x_line = np.array(x.astype(int) / 10**9)\n",
    "    # Finding the amplitude of the sin waves\n",
    "    amp = abs(np.fft.fft(y))\n",
    "    #Sorting the indices of the amplitudes in descending order\n",
    "    indices = np.flip(np.argsort(amp))\n",
    "    # Finding the frequency of the sin waves\n",
    "    freq = np.fft.fftfreq(len(x_line), (x_line[1]-x_line[0]))\n",
    "    guess_amp = np.std(y) * 2**0.5\n",
    "    guess_freq = abs(freq[np.argmax(amp[1:])+1])\n",
    "    phase = 0\n",
    "    guess_offset = np.mean(y) * 2**0.5\n",
    "    guess = [guess_amp, 2*np.pi*guess_freq, phase,  guess_offset]\n",
    "    return x, y, x_line, amp, freq, phase, guess_offset, indices\n",
    "\n",
    "\n",
    "def sinfunc(x, a, w, p):\n",
    "    return a * np.sin(x*w+p)\n",
    "def est_param(x_line, y, a, w, p, c, indices):\n",
    "    est_amps = np.empty(len(a))\n",
    "    est_freq = np.empty(len(a))\n",
    "    est_phase = np.empty(len(a))\n",
    "    for i in indices:\n",
    "        popt, pcov= curve_fit(sinfunc, x_line, y,  p0 = [a[i], w[i], p])\n",
    "        est_amps[i] = popt[0]\n",
    "        est_freq[i] = popt[1]\n",
    "        est_phase[i] = popt[2]\n",
    "        \n",
    "\n",
    "    est_values = [est_amps, est_freq, est_phase]\n",
    "    return est_values\n",
    "\n",
    "def model_based_on_param(x_line,est_values, degree):\n",
    "    x_line_dense = np.linspace(x_line.min(), x_line.max(), 4*len(x_line))\n",
    "    x_dense = pd.to_datetime(x_line_dense, unit='s')\n",
    "    y_dense = np.zeros(shape=len(x_line_dense))\n",
    "\n",
    "    ind = np.argpartition(est_values[0], -degree)[-degree:]\n",
    "    for i in ind:\n",
    "        y_dense += sinfunc(x_line_dense, est_values[0][i], est_values[1][i],est_values[2][i]) \n",
    "    return x_dense, y_dense\n",
    "\n",
    "def plot_graph_fourier(x_line, y_line, a, b, x, y, df_name, ax, colour):\n",
    "    \n",
    "    ax.plot(x_line,y_line*a+b, label = df_name, color = colour)\n",
    "    #ax.scatter(x, y, color = colour, marker='.',label = df_name)\n",
    "    \n",
    "    ax.legend(fontsize=12)\n",
    "    ax.set_title('Price of flights in the bottom 15% for 4 adults')\n",
    "\n"
   ]
  },
  {
   "cell_type": "code",
   "execution_count": null,
   "metadata": {},
   "outputs": [],
   "source": [
    "fig, ax = plt.subplots(figsize = (12, 6))\n",
    "colours = ['red', 'green', 'blue']\n",
    "for i in range(len(df_names)):\n",
    "    x, y, x_line, amp, freq, phase,  guess_offset, indices= return_val(small_df,df_names[i])\n",
    "    guess = [amp, 2*np.pi*freq, phase,  guess_offset]\n",
    "    est_values= est_param(x_line,y, *guess, indices=indices)\n",
    "    x_line, y_line = model_based_on_param(x_line,est_values, 7)\n",
    "    plot_graph_fourier(x_line, y_line, 0.5, 0, x, y, df_names[i], ax, colours[i])"
   ]
  },
  {
   "cell_type": "code",
   "execution_count": null,
   "metadata": {},
   "outputs": [],
   "source": [
    "def plot(df,filename,  ax, colour):\n",
    "    x = df.index\n",
    "    y = df['price']\n",
    "    x_line= x.astype(int) / 10**9\n",
    "    y = y.astype(int)\n",
    "    x_line_dense = np.linspace(x_line.min(), x_line.max(), 4*len(x_line))\n",
    "    x_dense = pd.to_datetime(x_line_dense, unit='s')\n",
    "\n",
    "    p= np.polyfit(x_line, y, 4)\n",
    "    y_line = np.polyval(p,x_line_dense)\n",
    "    ax.plot(x_dense, y_line, label=filename, color=colour)\n",
    "\n",
    "    ax.set_ylabel('Price in GBP')\n",
    "    #ax.set_yticks(np.arange(0, np.max(y)+1, 100))\n",
    "    ax.set_xlabel('Date')\n",
    "    ax.set_title('The price of a Oneway flight on each of the day of the year for 4 adults( adult > 12y/o)')\n",
    "    ax.scatter(x, y, marker ='.', color=colour, label=filename)\n",
    "    ax.legend(fontsize=12)\n",
    "\n",
    "fig, ax = plt.subplots(figsize =(12, 6))\n",
    "plot(BHX_to_IAS2,'BHX_to_IAS', ax, colour='red')\n",
    "plot(MAN_to_IAS2,'MAN_to_IAS', ax, colour='blue')\n",
    "plot(LTN_to_IAS2,'LTN_to_IAS', ax, colour='green')\n",
    "\n"
   ]
  },
  {
   "cell_type": "code",
   "execution_count": null,
   "metadata": {},
   "outputs": [],
   "source": []
  }
 ],
 "metadata": {
  "kernelspec": {
   "display_name": "Python 3",
   "language": "python",
   "name": "python3"
  },
  "language_info": {
   "codemirror_mode": {
    "name": "ipython",
    "version": 3
   },
   "file_extension": ".py",
   "mimetype": "text/x-python",
   "name": "python",
   "nbconvert_exporter": "python",
   "pygments_lexer": "ipython3",
   "version": "3.11.1"
  },
  "orig_nbformat": 4,
  "vscode": {
   "interpreter": {
    "hash": "7cf7a49d1a42a4809de0f3a1e252970087c14d6ced0f604115bf5aeb4902f00f"
   }
  }
 },
 "nbformat": 4,
 "nbformat_minor": 2
}
